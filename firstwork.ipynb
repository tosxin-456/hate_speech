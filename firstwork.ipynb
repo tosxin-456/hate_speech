{
 "cells": [
  {
   "cell_type": "code",
   "execution_count": 78,
   "id": "476c7de8-0c91-4c40-8469-4ae752daf916",
   "metadata": {},
   "outputs": [
    {
     "name": "stdout",
     "output_type": "stream",
     "text": [
      "[1 1]\n"
     ]
    }
   ],
   "source": [
    "import pandas as pd\n",
    "from sklearn.tree import DecisionTreeClassifier\n",
    "from sklearn.feature_extraction.text import TfidfVectorizer\n",
    "\n",
    "\n",
    "darta = pd.read_csv('labeled_data.csv')\n",
    "\n",
    "\n",
    "vectorizer = TfidfVectorizer()\n",
    "X = vectorizer.fit_transform(darta['tweet'])\n",
    "\n",
    "\n",
    "y = darta['offensive_language']\n",
    "\n",
    "\n",
    "model = DecisionTreeClassifier()\n",
    "model.fit(X, y);\n",
    "\n",
    "new_text = ['mad man', 'kind man']\n",
    "X_new = vectorizer.transform(new_text)\n",
    "\n",
    "\n",
    "predictions = model.predict(X_new)\n",
    "\n",
    "\n",
    "print(predictions)"
   ]
  },
  {
   "cell_type": "code",
   "execution_count": null,
   "id": "2aae06bf-4f48-44cc-b6ee-8d353e6d6ffb",
   "metadata": {},
   "outputs": [],
   "source": []
  },
  {
   "cell_type": "code",
   "execution_count": null,
   "id": "4c34a776-d35f-4ed0-b806-cf8232eeb75f",
   "metadata": {},
   "outputs": [],
   "source": []
  }
 ],
 "metadata": {
  "kernelspec": {
   "display_name": "Python 3 (ipykernel)",
   "language": "python",
   "name": "python3"
  },
  "language_info": {
   "codemirror_mode": {
    "name": "ipython",
    "version": 3
   },
   "file_extension": ".py",
   "mimetype": "text/x-python",
   "name": "python",
   "nbconvert_exporter": "python",
   "pygments_lexer": "ipython3",
   "version": "3.11.7"
  }
 },
 "nbformat": 4,
 "nbformat_minor": 5
}
