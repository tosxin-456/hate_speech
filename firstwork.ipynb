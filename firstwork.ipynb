{
 "cells": [
  {
   "cell_type": "code",
   "execution_count": 12,
   "id": "476c7de8-0c91-4c40-8469-4ae752daf916",
   "metadata": {},
   "outputs": [
    {
     "name": "stdout",
     "output_type": "stream",
     "text": [
      "['mild insult', 'sensitive insult']\n"
     ]
    }
   ],
   "source": [
    "import pandas as pd\n",
    "from sklearn.tree import DecisionTreeClassifier\n",
    "from sklearn.feature_extraction.text import TfidfVectorizer\n",
    "# import joblib\n",
    "\n",
    "# Read the CSV file into a DataFrame\n",
    "darta = pd.read_csv('labeled_data.csv')\n",
    "\n",
    "# Separate the tweet text and the target variable\n",
    "X_text = darta['tweet']\n",
    "y = darta['offensive_language']\n",
    "\n",
    "# Vectorize the tweet text using TfidfVectorizer\n",
    "vectorizer = TfidfVectorizer()\n",
    "X = vectorizer.fit_transform(X_text)\n",
    "\n",
    "# Train a Decision Tree Classifier\n",
    "model = DecisionTreeClassifier()\n",
    "model.fit(X, y)\n",
    "\n",
    "# Define a dictionary to map numerical predictions to class labels\n",
    "class_labels = {\n",
    "    1: 'mild insult',\n",
    "    2: 'slightly sensitive insult',\n",
    "    3: 'sensitive insult',\n",
    "    4: 'very sensitive insult',\n",
    "    5: 'second highest level of insult',\n",
    "    6: 'The highest level of insult'\n",
    "}\n",
    "\n",
    "# Example new text data for prediction\n",
    "new_text = ['mad man', 'bitch']\n",
    "X_new = vectorizer.transform(new_text)\n",
    "\n",
    "# Make predictions on the new text data\n",
    "predictions = model.predict(X_new)\n",
    "\n",
    "# Convert numerical predictions to class labels\n",
    "predicted_classes = [class_labels[prediction] for prediction in predictions]\n",
    "\n",
    "# Print the predicted class labels\n",
    "print(predicted_classes)\n",
    "\n",
    "# Save the trained model using joblib\n",
    "# joblib.dump(model, 'hatespeechpredictor.joblib')\n"
   ]
  },
  {
   "cell_type": "code",
   "execution_count": null,
   "id": "2aae06bf-4f48-44cc-b6ee-8d353e6d6ffb",
   "metadata": {},
   "outputs": [],
   "source": []
  },
  {
   "cell_type": "code",
   "execution_count": null,
   "id": "4c34a776-d35f-4ed0-b806-cf8232eeb75f",
   "metadata": {},
   "outputs": [],
   "source": []
  }
 ],
 "metadata": {
  "kernelspec": {
   "display_name": "Python 3 (ipykernel)",
   "language": "python",
   "name": "python3"
  },
  "language_info": {
   "codemirror_mode": {
    "name": "ipython",
    "version": 3
   },
   "file_extension": ".py",
   "mimetype": "text/x-python",
   "name": "python",
   "nbconvert_exporter": "python",
   "pygments_lexer": "ipython3",
   "version": "3.11.7"
  }
 },
 "nbformat": 4,
 "nbformat_minor": 5
}
